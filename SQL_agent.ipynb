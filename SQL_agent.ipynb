{
 "cells": [
  {
   "cell_type": "code",
   "execution_count": 1,
   "id": "3d1d2e78",
   "metadata": {},
   "outputs": [
    {
     "name": "stderr",
     "output_type": "stream",
     "text": [
      "c:\\Users\\DELL\\SQL-Database-Agents-with-LangGraph\\sql_env\\lib\\site-packages\\IPython\\core\\interactiveshell.py:3579: LangChainDeprecationWarning: As of langchain-core 0.3.0, LangChain uses pydantic v2 internally. The langchain_core.pydantic_v1 module was a compatibility shim for pydantic v1, and should no longer be used. Please update the code to import from Pydantic directly.\n",
      "\n",
      "For example, replace imports like: `from langchain_core.pydantic_v1 import BaseModel`\n",
      "with: `from pydantic import BaseModel`\n",
      "or the v1 compatibility namespace if you are working in a code base that has not been fully upgraded to pydantic 2 yet. \tfrom pydantic.v1 import BaseModel\n",
      "\n",
      "  exec(code_obj, self.user_global_ns, self.user_ns)\n",
      "USER_AGENT environment variable not set, consider setting it to identify your requests.\n",
      "USER_AGENT environment variable not set, consider setting it to identify your requests.\n"
     ]
    }
   ],
   "source": [
    "import sqlite3\n",
    "from typing import Annotated, Literal, Sequence, TypedDict\n",
    "\n",
    "# LangChain core components\n",
    "from langchain import hub\n",
    "from langchain_core.messages import BaseMessage, HumanMessage\n",
    "from langchain_core.output_parsers import StrOutputParser\n",
    "from langchain_core.prompts import PromptTemplate\n",
    "from langchain_core.pydantic_v1 import BaseModel, Field\n",
    "\n",
    "# LangGraph components\n",
    "from langgraph.graph import START, END, StateGraph\n",
    "from langgraph.graph.message import add_messages\n",
    "from langgraph.prebuilt import tools_condition, ToolNode\n",
    "\n",
    "# LangChain tools and retriever\n",
    "from langchain.tools.retriever import create_retriever_tool\n",
    "\n",
    "# LangChain community integrations\n",
    "from langchain_community.document_loaders import WebBaseLoader\n",
    "from langchain_community.vectorstores import Chroma\n",
    "\n",
    "# Text splitting utility\n",
    "from langchain_text_splitters import RecursiveCharacterTextSplitter"
   ]
  },
  {
   "cell_type": "code",
   "execution_count": 2,
   "id": "982a21d5",
   "metadata": {},
   "outputs": [],
   "source": [
    "connection=sqlite3.connect(\"my_db.db\")"
   ]
  },
  {
   "cell_type": "code",
   "execution_count": 3,
   "id": "357cc92a",
   "metadata": {},
   "outputs": [
    {
     "data": {
      "text/plain": [
       "<sqlite3.Connection at 0x192ff15cf40>"
      ]
     },
     "execution_count": 3,
     "metadata": {},
     "output_type": "execute_result"
    }
   ],
   "source": [
    "connection"
   ]
  },
  {
   "cell_type": "code",
   "execution_count": 4,
   "id": "ca3f9f3a",
   "metadata": {},
   "outputs": [],
   "source": [
    "# Define all table creation queries FIRST\n",
    "table_creation_query = \"\"\"\n",
    "CREATE TABLE IF NOT EXISTS USERS(\n",
    "    emp_id INTEGER PRIMARY KEY,\n",
    "    first_name TEXT NOT NULL,\n",
    "    last_name TEXT NOT NULL,\n",
    "    email TEXT NOT NULL,\n",
    "    hire_date TEXT NOT NULL,\n",
    "    salary REAL NOT NULL\n",
    ");\n",
    "\"\"\"\n",
    "\n",
    "table_creation_query_departments = \"\"\"\n",
    "CREATE TABLE IF NOT EXISTS DEPARTMENTS (\n",
    "    dept_id INTEGER PRIMARY KEY,\n",
    "    dept_name TEXT NOT NULL UNIQUE\n",
    ");\n",
    "\"\"\"\n",
    "\n",
    "table_creation_query_employees_departments = \"\"\"\n",
    "CREATE TABLE IF NOT EXISTS EMPLOYEES_DEPARTMENTS (\n",
    "    emp_id INTEGER,\n",
    "    dept_id INTEGER,\n",
    "    PRIMARY KEY (emp_id, dept_id),\n",
    "    FOREIGN KEY (emp_id) REFERENCES USERS(emp_id),\n",
    "    FOREIGN KEY (dept_id) REFERENCES DEPARTMENTS(dept_id)\n",
    ");\n",
    "\"\"\"\n",
    "\n",
    "table_creation_query_projects = \"\"\"\n",
    "CREATE TABLE IF NOT EXISTS PROJECTS (\n",
    "    project_id INTEGER PRIMARY KEY,\n",
    "    project_name TEXT NOT NULL,\n",
    "    start_date TEXT,\n",
    "    end_date TEXT\n",
    ");\n",
    "\"\"\"\n",
    "\n",
    "table_creation_query_assignments = \"\"\"\n",
    "CREATE TABLE IF NOT EXISTS ASSIGNMENTS (\n",
    "    assignment_id INTEGER PRIMARY KEY,\n",
    "    emp_id INTEGER,\n",
    "    project_id INTEGER,\n",
    "    assigned_date TEXT NOT NULL,\n",
    "    role TEXT,\n",
    "    FOREIGN KEY (emp_id) REFERENCES USERS(emp_id),\n",
    "    FOREIGN KEY (project_id) REFERENCES PROJECTS(project_id)\n",
    ");\n",
    "\"\"\"\n",
    "\n",
    "table_creation_query_attendance = \"\"\"\n",
    "CREATE TABLE IF NOT EXISTS ATTENDANCE (\n",
    "    attendance_id INTEGER PRIMARY KEY,\n",
    "    emp_id INTEGER,\n",
    "    date TEXT NOT NULL,\n",
    "    status TEXT NOT NULL CHECK(status IN ('Present', 'Absent', 'Leave')),\n",
    "    FOREIGN KEY (emp_id) REFERENCES USERS(emp_id)\n",
    ");\n",
    "\"\"\"\n",
    "\n",
    "\n"
   ]
  },
  {
   "cell_type": "code",
   "execution_count": 5,
   "id": "b5f50844",
   "metadata": {},
   "outputs": [
    {
     "data": {
      "text/plain": [
       "<sqlite3.Cursor at 0x192f071b3c0>"
      ]
     },
     "execution_count": 5,
     "metadata": {},
     "output_type": "execute_result"
    }
   ],
   "source": [
    "# Now execute them\n",
    "import sqlite3\n",
    "\n",
    "conn = sqlite3.connect(\"company_emp-.db\")\n",
    "cursor = conn.cursor()\n",
    "\n",
    "cursor.execute(table_creation_query)\n",
    "cursor.execute(table_creation_query_departments)\n",
    "cursor.execute(table_creation_query_employees_departments)\n",
    "cursor.execute(table_creation_query_projects)\n",
    "cursor.execute(table_creation_query_assignments)\n",
    "cursor.execute(table_creation_query_attendance)\n",
    "\n"
   ]
  },
  {
   "cell_type": "code",
   "execution_count": 6,
   "id": "333f7a50",
   "metadata": {},
   "outputs": [],
   "source": [
    "users_data = [\n",
    "    (1, 'John', 'Doe', 'john.doe@example.com', '2022-01-10', 60000),\n",
    "    (2, 'Jane', 'Smith', 'jane.smith@example.com', '2021-03-15', 65000),\n",
    "    (3, 'Alice', 'Johnson', 'alice.johnson@example.com', '2020-07-20', 70000),\n",
    "    (4, 'Bob', 'Brown', 'bob.brown@example.com', '2023-02-10', 55000),\n",
    "    (5, 'Charlie', 'Davis', 'charlie.davis@example.com', '2022-08-05', 58000),\n",
    "    (6, 'Diana', 'Evans', 'diana.evans@example.com', '2021-11-11', 62000),\n",
    "    (7, 'Frank', 'Green', 'frank.green@example.com', '2022-05-01', 67000),\n",
    "    (8, 'Grace', 'Hall', 'grace.hall@example.com', '2020-09-13', 69000),\n",
    "    (9, 'Henry', 'Irwin', 'henry.irwin@example.com', '2019-12-23', 71000),\n",
    "    (10, 'Ivy', 'James', 'ivy.james@example.com', '2023-04-14', 63000),\n",
    "]\n",
    "\n",
    "\n",
    "departments_data = [\n",
    "    (1, 'HR'),\n",
    "    (2, 'Engineering'),\n",
    "    (3, 'Marketing'),\n",
    "    (4, 'Finance'),\n",
    "    (5, 'Sales')\n",
    "]\n",
    "\n",
    "employees_departments_data = [\n",
    "    (1, 2),\n",
    "    (2, 1),\n",
    "    (3, 2),\n",
    "    (4, 3),\n",
    "    (5, 4),\n",
    "    (6, 1),\n",
    "    (7, 2),\n",
    "    (8, 3),\n",
    "    (9, 4),\n",
    "    (10, 5)\n",
    "]\n",
    "\n",
    "projects_data = [\n",
    "    (1, 'Project Apollo', '2023-01-01', '2023-12-31'),\n",
    "    (2, 'Project Titan', '2022-06-01', '2023-06-01'),\n",
    "    (3, 'Project Orion', '2023-03-01', '2023-10-01')\n",
    "]\n",
    "\n",
    "assignments_data = [\n",
    "    (1, 1, 1, '2023-01-15', 'Developer'),\n",
    "    (2, 2, 1, '2023-01-20', 'Manager'),\n",
    "    (3, 3, 2, '2022-07-01', 'Developer'),\n",
    "    (4, 4, 3, '2023-03-10', 'Tester'),\n",
    "    (5, 5, 1, '2023-02-01', 'Analyst'),\n",
    "    (6, 6, 2, '2022-09-15', 'Support'),\n",
    "    (7, 7, 1, '2023-01-25', 'Developer'),\n",
    "    (8, 8, 3, '2023-04-01', 'UI/UX Designer'),\n",
    "    (9, 9, 2, '2022-10-10', 'QA'),\n",
    "    (10, 10, 1, '2023-05-05', 'Consultant'),\n",
    "]\n",
    "\n",
    "attendance_data = [\n",
    "    (1, 1, '2023-05-01', 'Present'),\n",
    "    (2, 2, '2023-05-01', 'Absent'),\n",
    "    (3, 3, '2023-05-01', 'Leave'),\n",
    "    (4, 4, '2023-05-01', 'Present'),\n",
    "    (5, 5, '2023-05-01', 'Present'),\n",
    "    (6, 6, '2023-05-01', 'Absent'),\n",
    "    (7, 7, '2023-05-01', 'Leave'),\n",
    "    (8, 8, '2023-05-01', 'Present'),\n",
    "    (9, 9, '2023-05-01', 'Present'),\n",
    "    (10, 10, '2023-05-01', 'Absent'),\n",
    "]\n"
   ]
  },
  {
   "cell_type": "code",
   "execution_count": 7,
   "id": "c1705ddb",
   "metadata": {},
   "outputs": [
    {
     "data": {
      "text/plain": [
       "<sqlite3.Cursor at 0x192f071b3c0>"
      ]
     },
     "execution_count": 7,
     "metadata": {},
     "output_type": "execute_result"
    }
   ],
   "source": [
    "cursor.executemany(\"INSERT INTO USERS VALUES (?, ?, ?, ?, ?, ?);\", users_data)\n",
    "cursor.executemany(\"INSERT INTO DEPARTMENTS VALUES (?, ?);\", departments_data)\n",
    "cursor.executemany(\"INSERT INTO EMPLOYEES_DEPARTMENTS VALUES (?, ?);\", employees_departments_data)\n",
    "cursor.executemany(\"INSERT INTO PROJECTS VALUES (?, ?, ?, ?);\", projects_data)\n",
    "cursor.executemany(\"INSERT INTO ASSIGNMENTS VALUES (?, ?, ?, ?, ?);\", assignments_data)\n",
    "cursor.executemany(\"INSERT INTO ATTENDANCE VALUES (?, ?, ?, ?);\", attendance_data)"
   ]
  },
  {
   "cell_type": "code",
   "execution_count": 8,
   "id": "5d3f6a54",
   "metadata": {},
   "outputs": [],
   "source": [
    "from langchain_core.messages import ToolCall\n"
   ]
  },
  {
   "cell_type": "code",
   "execution_count": 9,
   "id": "c2e59a93",
   "metadata": {},
   "outputs": [],
   "source": [
    "conn.commit()\n",
    "#conn.close()"
   ]
  },
  {
   "cell_type": "code",
   "execution_count": 10,
   "id": "ae28191a",
   "metadata": {},
   "outputs": [
    {
     "data": {
      "text/plain": [
       "<sqlite3.Cursor at 0x192f071b3c0>"
      ]
     },
     "execution_count": 10,
     "metadata": {},
     "output_type": "execute_result"
    }
   ],
   "source": [
    "cursor.execute(\"select * from USERS\")"
   ]
  },
  {
   "cell_type": "code",
   "execution_count": 11,
   "id": "f9e53fa8",
   "metadata": {},
   "outputs": [
    {
     "name": "stdout",
     "output_type": "stream",
     "text": [
      "(1, 'John', 'Doe', 'john.doe@example.com', '2022-01-10', 60000.0)\n",
      "(2, 'Jane', 'Smith', 'jane.smith@example.com', '2021-03-15', 65000.0)\n",
      "(3, 'Alice', 'Johnson', 'alice.johnson@example.com', '2020-07-20', 70000.0)\n",
      "(4, 'Bob', 'Brown', 'bob.brown@example.com', '2023-02-10', 55000.0)\n",
      "(5, 'Charlie', 'Davis', 'charlie.davis@example.com', '2022-08-05', 58000.0)\n",
      "(6, 'Diana', 'Evans', 'diana.evans@example.com', '2021-11-11', 62000.0)\n",
      "(7, 'Frank', 'Green', 'frank.green@example.com', '2022-05-01', 67000.0)\n",
      "(8, 'Grace', 'Hall', 'grace.hall@example.com', '2020-09-13', 69000.0)\n",
      "(9, 'Henry', 'Irwin', 'henry.irwin@example.com', '2019-12-23', 71000.0)\n",
      "(10, 'Ivy', 'James', 'ivy.james@example.com', '2023-04-14', 63000.0)\n"
     ]
    }
   ],
   "source": [
    "for row in cursor.fetchall():\n",
    "    print(row)"
   ]
  },
  {
   "cell_type": "code",
   "execution_count": 12,
   "id": "39affb2f",
   "metadata": {},
   "outputs": [],
   "source": [
    "from langchain_community.utilities import SQLDatabase"
   ]
  },
  {
   "cell_type": "code",
   "execution_count": 13,
   "id": "f6409fd0",
   "metadata": {},
   "outputs": [],
   "source": [
    "db = SQLDatabase.from_uri(\"sqlite:///company_emp_.db\")"
   ]
  },
  {
   "cell_type": "code",
   "execution_count": 14,
   "id": "574a5397",
   "metadata": {},
   "outputs": [
    {
     "data": {
      "text/plain": [
       "<langchain_community.utilities.sql_database.SQLDatabase at 0x192ff88e530>"
      ]
     },
     "execution_count": 14,
     "metadata": {},
     "output_type": "execute_result"
    }
   ],
   "source": [
    "db"
   ]
  },
  {
   "cell_type": "code",
   "execution_count": 15,
   "id": "e47fea95",
   "metadata": {},
   "outputs": [
    {
     "data": {
      "text/plain": [
       "'sqlite'"
      ]
     },
     "execution_count": 15,
     "metadata": {},
     "output_type": "execute_result"
    }
   ],
   "source": [
    "db.dialect"
   ]
  },
  {
   "cell_type": "code",
   "execution_count": 16,
   "id": "adcf9d93",
   "metadata": {},
   "outputs": [
    {
     "data": {
      "text/plain": [
       "[]"
      ]
     },
     "execution_count": 16,
     "metadata": {},
     "output_type": "execute_result"
    }
   ],
   "source": [
    "db.get_usable_table_names()"
   ]
  },
  {
   "cell_type": "code",
   "execution_count": 17,
   "id": "65c59775",
   "metadata": {},
   "outputs": [],
   "source": [
    "from langchain_groq import ChatGroq\n",
    "llm = ChatGroq(model=\"llama3-70b-8192\")\n"
   ]
  },
  {
   "cell_type": "code",
   "execution_count": 18,
   "id": "f2f9a1ad",
   "metadata": {},
   "outputs": [
    {
     "data": {
      "text/plain": [
       "AIMessage(content=\"I'm just a language model, I don't have feelings or emotions like humans do, so I don't have good or bad days. However, I'm functioning properly and ready to assist you with any questions or tasks you may have!\", additional_kwargs={}, response_metadata={'token_usage': {'completion_tokens': 49, 'prompt_tokens': 14, 'total_tokens': 63, 'completion_time': 0.150406806, 'prompt_time': 0.004383959, 'queue_time': 1.084588701, 'total_time': 0.154790765}, 'model_name': 'llama3-70b-8192', 'system_fingerprint': 'fp_2f30b0b571', 'finish_reason': 'stop', 'logprobs': None}, id='run--6325f850-6d36-4f72-89f7-e6e3f257bb16-0', usage_metadata={'input_tokens': 14, 'output_tokens': 49, 'total_tokens': 63})"
      ]
     },
     "execution_count": 18,
     "metadata": {},
     "output_type": "execute_result"
    }
   ],
   "source": [
    "llm.invoke(\"how are you ?\")"
   ]
  },
  {
   "cell_type": "code",
   "execution_count": 19,
   "id": "0b772490",
   "metadata": {},
   "outputs": [],
   "source": [
    "from langchain_community.agent_toolkits import SQLDatabaseToolkit"
   ]
  },
  {
   "cell_type": "code",
   "execution_count": 20,
   "id": "799fda3e",
   "metadata": {},
   "outputs": [],
   "source": [
    "toolkit =SQLDatabaseToolkit(db=db,llm=llm)"
   ]
  },
  {
   "cell_type": "code",
   "execution_count": 21,
   "id": "8375dde1",
   "metadata": {},
   "outputs": [],
   "source": [
    "tools =toolkit.get_tools()"
   ]
  },
  {
   "cell_type": "code",
   "execution_count": 22,
   "id": "2e0f93db",
   "metadata": {},
   "outputs": [
    {
     "name": "stdout",
     "output_type": "stream",
     "text": [
      "sql_db_query\n",
      "sql_db_schema\n",
      "sql_db_list_tables\n",
      "sql_db_query_checker\n"
     ]
    }
   ],
   "source": [
    "for tool in tools:\n",
    "    print(tool.name)"
   ]
  },
  {
   "cell_type": "code",
   "execution_count": 23,
   "id": "4aa6405b",
   "metadata": {},
   "outputs": [],
   "source": [
    "list_table_tool=next((tool for tool in tools if tool.name==\"sql_db_list_tables\"),None)"
   ]
  },
  {
   "cell_type": "code",
   "execution_count": 24,
   "id": "1a148dd5",
   "metadata": {},
   "outputs": [],
   "source": [
    "get_schema_tool = next(tool for tool in tools if tool.name == \"sql_db_schema\")\n"
   ]
  },
  {
   "cell_type": "code",
   "execution_count": 25,
   "id": "f9927257",
   "metadata": {},
   "outputs": [
    {
     "data": {
      "text/plain": [
       "ListSQLDatabaseTool(db=<langchain_community.utilities.sql_database.SQLDatabase object at 0x00000192FF88E530>)"
      ]
     },
     "execution_count": 25,
     "metadata": {},
     "output_type": "execute_result"
    }
   ],
   "source": [
    "list_table_tool"
   ]
  },
  {
   "cell_type": "code",
   "execution_count": 26,
   "id": "c9d622b4",
   "metadata": {},
   "outputs": [
    {
     "data": {
      "text/plain": [
       "''"
      ]
     },
     "execution_count": 26,
     "metadata": {},
     "output_type": "execute_result"
    }
   ],
   "source": [
    "list_table_tool.invoke(\"\")"
   ]
  },
  {
   "cell_type": "code",
   "execution_count": 27,
   "id": "a7ec3a1e",
   "metadata": {},
   "outputs": [
    {
     "name": "stdout",
     "output_type": "stream",
     "text": [
      "Error: table_names {'USERS'} not found in database\n"
     ]
    }
   ],
   "source": [
    "print(get_schema_tool.invoke(\"USERS\"))"
   ]
  },
  {
   "cell_type": "code",
   "execution_count": 28,
   "id": "e14be79a",
   "metadata": {},
   "outputs": [],
   "source": [
    "from langchain_core.tools import tool\n",
    "\n",
    "@tool\n",
    "def db_query_tool(query: str) -> str:\n",
    "    \"\"\"Execute a SQL query against the database and return results.\"\"\"\n",
    "    result = db.run_no_throw(query)\n",
    "    if not result:\n",
    "        return \"Error: Query failed. Please rewrite your query and try again.\"\n",
    "    return str(result)"
   ]
  },
  {
   "cell_type": "code",
   "execution_count": 29,
   "id": "ba264461",
   "metadata": {},
   "outputs": [
    {
     "data": {
      "text/plain": [
       "'Error: (sqlite3.OperationalError) no such table: USERS\\n[SQL: SELECT * FROM USERS;]\\n(Background on this error at: https://sqlalche.me/e/20/e3q8)'"
      ]
     },
     "execution_count": 29,
     "metadata": {},
     "output_type": "execute_result"
    }
   ],
   "source": [
    "db_query_tool.invoke(\"SELECT * FROM USERS;\")"
   ]
  },
  {
   "cell_type": "code",
   "execution_count": 32,
   "id": "e0ee5a58",
   "metadata": {},
   "outputs": [],
   "source": [
    "from langchain_core.prompts import ChatMessagePromptTemplate"
   ]
  },
  {
   "cell_type": "code",
   "execution_count": 33,
   "id": "5c5503d9",
   "metadata": {},
   "outputs": [],
   "source": [
    "# SYSTEM PROMPT\n",
    "query_check_system = \"\"\"You are a SQL expert with a strong attention to detail.\n",
    "\n",
    "Double check the SQLite query for common mistakes, including:\n",
    "\n",
    "- Using NOT IN with NULL values\n",
    "- Using UNION when UNION ALL should have been used\n",
    "- Using BETWEEN for exclusive ranges\n",
    "- Data type mismatch in predicates\n",
    "- Properly quoting identifiers\n",
    "- Using the correct number of arguments for functions\n",
    "- Casting to the correct data type\n",
    "- Using the proper columns for joins\n",
    "\n",
    "If there are any of the above mistakes, rewrite the query. If there are no mistakes, just reproduce the original query.\n",
    "\n",
    "You will call the appropriate tool to execute the query after running this check.\"\"\"\n",
    "\n",
    "# PROMPT TEMPLATE\n",
    "from langchain_core.prompts import ChatPromptTemplate\n",
    "query_check_prompt = ChatPromptTemplate.from_messages([\n",
    "    (\"system\", query_check_system),\n",
    "    (\"user\", \"{messages}\")\n",
    "])\n",
    "\n",
    "# CHAIN TO TOOL\n",
    "query_check = query_check_prompt | llm.bind_tools([db_query_tool])\n",
    "\n",
    "\n",
    "\n",
    "\n"
   ]
  },
  {
   "cell_type": "code",
   "execution_count": 34,
   "id": "6d13bded",
   "metadata": {},
   "outputs": [],
   "source": [
    "# INVOKE WITH INPUT\n",
    "response = query_check.invoke({\n",
    "    \"messages\": [(\"SELECT FROM Employees LIMIT 5;\")]\n",
    "})"
   ]
  },
  {
   "cell_type": "code",
   "execution_count": 35,
   "id": "3d01db89",
   "metadata": {},
   "outputs": [
    {
     "data": {
      "text/plain": [
       "AIMessage(content='', additional_kwargs={'tool_calls': [{'id': 'call_pgtb', 'function': {'arguments': '{\"query\":\"SELECT ID, Name, Department FROM Employees LIMIT 5;\"}', 'name': 'db_query_tool'}, 'type': 'function'}]}, response_metadata={'token_usage': {'completion_tokens': 191, 'prompt_tokens': 1018, 'total_tokens': 1209, 'completion_time': 0.545714286, 'prompt_time': 0.042574803, 'queue_time': 0.054757378, 'total_time': 0.588289089}, 'model_name': 'llama3-70b-8192', 'system_fingerprint': 'fp_dd4ae1c591', 'finish_reason': 'tool_calls', 'logprobs': None}, id='run--f4e95459-503b-4bf6-8d85-6794ff9ad5c7-0', tool_calls=[{'name': 'db_query_tool', 'args': {'query': 'SELECT ID, Name, Department FROM Employees LIMIT 5;'}, 'id': 'call_pgtb', 'type': 'tool_call'}], usage_metadata={'input_tokens': 1018, 'output_tokens': 191, 'total_tokens': 1209})"
      ]
     },
     "execution_count": 35,
     "metadata": {},
     "output_type": "execute_result"
    }
   ],
   "source": [
    "response"
   ]
  },
  {
   "cell_type": "code",
   "execution_count": 36,
   "id": "83dca170",
   "metadata": {},
   "outputs": [],
   "source": [
    "\n",
    "from pydantic import BaseModel, Field\n",
    "# 1. Define the Pydantic model for the final answer\n",
    "class SubmitFinalAnswer(BaseModel):\n",
    "    \"\"\"Submit the final answer to the user based on the query results.\"\"\"\n",
    "    final_answer: str = Field(..., description=\"The final answer to the user\")\n",
    "\n",
    "# 2. Define the system prompt for query generation\n",
    "query_gen_system = \"\"\"\n",
    "You are a SQL expert with a strong attention to detail.\n",
    "\n",
    "Given an input question, output a syntactically correct SQLite query to run.\n",
    "\n",
    "DO NOT call any tool besides SubmitFinalAnswer to submit the final answer.\n",
    "\n",
    "When generating the query:\n",
    "\n",
    "- Output the SQL query that answers the input question without a tool call.\n",
    "- Unless the user specifies a specific number of examples they wish to obtain, always limit your query to at most 10 rows.\n",
    "- You can order the results by a relevant column to return the most interesting examples.\n",
    "- Do not select all columns (*), only the relevant columns given the question.\n",
    "- If you get an error while executing a query, rewrite the query and try again.\n",
    "- If you get an empty result set, try to rewrite the query to get a non-empty result set.\n",
    "- NEVER make stuff up if you don't have enough information to answer the query; just say you don't have enough information.\n",
    "- If you have enough information to answer the input question, invoke SubmitFinalAnswer tool with the final answer.\n",
    "- DO NOT make any DML statements (INSERT, UPDATE, DELETE, DROP, etc.) to the database.\n",
    "- Do not return any SQL query except the answer when submitting the final answer.\n",
    "\"\"\"\n",
    "\n",
    "# 3. Create prompt template with system + placeholder for user messages\n",
    "query_gen_prompt = ChatPromptTemplate.from_messages([\n",
    "    (\"system\", query_gen_system),\n",
    "    (\"user\", \"{messages}\")\n",
    "])\n",
    "\n",
    "# 4. Define SubmitFinalAnswer tool using the Pydantic model (you can add functionality here if needed)\n",
    "@tool\n",
    "def submit_final_answer(final_answer: str) -> str:\n",
    "    \"\"\"Tool to submit the final answer to the user.\"\"\"\n",
    "    # Here you can add any final processing, logging, etc.\n",
    "    return final_answer\n",
    "\n",
    "# 5. Bind the prompt and tool with your LLM (make sure llm is defined, e.g., ChatGroq)\n",
    "query_gen_chain = query_gen_prompt | llm.bind_tools([submit_final_answer])\n"
   ]
  },
  {
   "cell_type": "code",
   "execution_count": 37,
   "id": "9eed32b8",
   "metadata": {},
   "outputs": [],
   "source": [
    "from typing import Annotated, TypedDict, List\n",
    "from langchain_core.messages import BaseMessage\n",
    "from langgraph.graph.message import add_messages\n",
    "\n",
    "class State(TypedDict):\n",
    "    messages: Annotated[List[BaseMessage], add_messages]\n"
   ]
  },
  {
   "cell_type": "code",
   "execution_count": 38,
   "id": "a47889a3",
   "metadata": {},
   "outputs": [],
   "source": [
    "from langchain_core.messages import AIMessage\n",
    "from langchain_core.pydantic_v1 import BaseModel, Field\n",
    "from typing_extensions import TypedDict"
   ]
  },
  {
   "cell_type": "code",
   "execution_count": 39,
   "id": "a799707e",
   "metadata": {},
   "outputs": [],
   "source": [
    "def first_tool_call(state: State) -> State:\n",
    "    tool_call = ToolCall(\n",
    "        name=\"sql_db_list_tables\",\n",
    "        args={},\n",
    "        id=\"tool_abcd123\"\n",
    "    )\n",
    "\n",
    "    ai_message = AIMessage(\n",
    "        content=\"Calling sql_db_list_tables to get list of tables.\",\n",
    "        tool_calls=[tool_call]\n",
    "    )\n",
    "\n",
    "    return {\n",
    "        \"messages\": state[\"messages\"] + [ai_message]\n",
    "    }"
   ]
  },
  {
   "cell_type": "code",
   "execution_count": 40,
   "id": "ce4366a3",
   "metadata": {},
   "outputs": [],
   "source": [
    "def handle_tool_error(state: State) -> State:\n",
    "    error = state.get(\"error\")\n",
    "    tool_calls = state[\"messages\"][-1].tool_calls  # Get tool calls from last AIMessage\n",
    "\n",
    "    return {\n",
    "        \"messages\": state[\"messages\"] + [\n",
    "            ToolMessage(\n",
    "                content=f\"Error: {repr(error)}\\nPlease fix your mistakes.\",\n",
    "                tool_call_id=tc[\"id\"],\n",
    "            ) for tc in tool_calls\n",
    "        ]\n",
    "    }"
   ]
  },
  {
   "cell_type": "code",
   "execution_count": 41,
   "id": "c194f429",
   "metadata": {},
   "outputs": [],
   "source": [
    "from langchain_core.messages import ToolMessage\n",
    "from langgraph.prebuilt import ToolNode\n",
    "from langchain_core.runnables import RunnableWithFallbacks, RunnableLambda\n",
    "from typing import Any, List\n"
   ]
  },
  {
   "cell_type": "code",
   "execution_count": 42,
   "id": "efc91f58",
   "metadata": {},
   "outputs": [],
   "source": [
    "def create_tool_node_with_fallback(tools: List[Any]) -> RunnableWithFallbacks[Any, dict]:\n",
    "    return ToolNode(tools).with_fallbacks(\n",
    "        [RunnableLambda(handle_tool_error)],\n",
    "        exception_key=\"error\"\n",
    "    )"
   ]
  },
  {
   "cell_type": "code",
   "execution_count": 43,
   "id": "e69419ad",
   "metadata": {},
   "outputs": [],
   "source": [
    "def model_check_query(state: State) -> State:\n",
    "    # Invoke the query checker model with the last message\n",
    "    result = query_check.invoke({\"messages\": [state[\"messages\"][-1]]})\n",
    "    \n",
    "    return {\n",
    "        \"messages\": state[\"messages\"] + [result]\n",
    "    }\n"
   ]
  },
  {
   "cell_type": "code",
   "execution_count": 44,
   "id": "27155299",
   "metadata": {},
   "outputs": [],
   "source": [
    "def query_gen_nood(state: State):\n",
    "    message = query_gen.invoke(state)\n",
    "\n",
    "    tool_messages = []\n",
    "\n",
    "    if getattr(message, \"tool_calls\", None):\n",
    "        for tc in message.tool_calls:\n",
    "            if tc[\"name\"] != \"SubmitFinalAnswer\":\n",
    "                tool_messages.append(\n",
    "                    ToolMessage(\n",
    "                        content=f\"Error: The wrong tool was called: {tc['name']}. Please fix your mistakes. Remember to only call SubmitFinalAnswer.\",\n",
    "                        tool_call_id=tc[\"id\"],\n",
    "                    )\n",
    "                )\n",
    "\n",
    "    return {\n",
    "        \"messages\": state[\"messages\"] + [message] + tool_messages\n",
    "    }"
   ]
  },
  {
   "cell_type": "code",
   "execution_count": 45,
   "id": "4d760125",
   "metadata": {},
   "outputs": [],
   "source": [
    "def should_continue(state: State) -> Literal[\"__end__\", \"correct_query\", \"query_gen\"]:\n",
    "    messages = state[\"messages\"]\n",
    "    last_message = messages[-1]\n",
    "\n",
    "    if getattr(last_message, \"tool_calls\", None):\n",
    "        return END\n",
    "\n",
    "    if last_message.content and last_message.content.startswith(\"Error:\"):\n",
    "        return \"query_gen\"\n",
    "    \n",
    "    return \"correct_query\""
   ]
  },
  {
   "cell_type": "code",
   "execution_count": 46,
   "id": "573a23cb",
   "metadata": {},
   "outputs": [],
   "source": [
    "workflow = StateGraph(State)\n"
   ]
  },
  {
   "cell_type": "code",
   "execution_count": 47,
   "id": "53f15c78",
   "metadata": {},
   "outputs": [],
   "source": [
    "model_get_schema = llm.bind_tools([get_schema_tool])\n"
   ]
  },
  {
   "cell_type": "code",
   "execution_count": 48,
   "id": "9b9306b7",
   "metadata": {},
   "outputs": [
    {
     "data": {
      "text/plain": [
       "<langgraph.graph.state.StateGraph at 0x1928d009e70>"
      ]
     },
     "execution_count": 48,
     "metadata": {},
     "output_type": "execute_result"
    }
   ],
   "source": [
    "# Add nodes for the first two tools\n",
    "workflow.add_node(\n",
    "    \"list_tables_tool\", create_tool_node_with_fallback([list_table_tool])\n",
    ")\n",
    "#workflow.add_node(\"get_schema_tool\", create_tool_node_with_fallback([get_schema_tool]))\n",
    "\n",
    "# Add a node for a model to choose the relevant tables based on the question and available tables\n",
    "model_get_schema = llm.bind_tools(\n",
    "    [get_schema_tool]\n",
    ")\n",
    "workflow.add_node(\n",
    "    \"model_get_schema\",\n",
    "    lambda state: {\n",
    "        \"messages\": [model_get_schema.invoke(state[\"messages\"])],\n",
    "    },\n",
    ")"
   ]
  },
  {
   "cell_type": "code",
   "execution_count": 53,
   "id": "6da0ec4c",
   "metadata": {},
   "outputs": [
    {
     "data": {
      "text/plain": [
       "<langgraph.graph.state.StateGraph at 0x1928d009e70>"
      ]
     },
     "execution_count": 53,
     "metadata": {},
     "output_type": "execute_result"
    }
   ],
   "source": [
    "workflow.add_node(\"get_schema_tool\", create_tool_node_with_fallback([get_schema_tool]))\n"
   ]
  },
  {
   "cell_type": "code",
   "execution_count": 49,
   "id": "65764bf7",
   "metadata": {},
   "outputs": [
    {
     "data": {
      "text/plain": [
       "<langgraph.graph.state.StateGraph at 0x1928d009e70>"
      ]
     },
     "execution_count": 49,
     "metadata": {},
     "output_type": "execute_result"
    }
   ],
   "source": [
    "workflow.add_node(\"query_gen\", query_gen_nood)\n",
    "\n",
    "# Add a node for the model to check the query before executing it\n",
    "workflow.add_node(\"correct_query\", model_check_query)\n",
    "\n",
    "# Add node for executing the query\n",
    "workflow.add_node(\"execute_query\", create_tool_node_with_fallback([db_query_tool]))\n",
    "\n"
   ]
  },
  {
   "cell_type": "code",
   "execution_count": 50,
   "id": "7592274a",
   "metadata": {},
   "outputs": [
    {
     "data": {
      "text/plain": [
       "<langgraph.graph.state.StateGraph at 0x1928d009e70>"
      ]
     },
     "execution_count": 50,
     "metadata": {},
     "output_type": "execute_result"
    }
   ],
   "source": [
    "# Specify the edges between the nodes\n",
    "workflow.add_edge(START, \"first_tool_call\")\n",
    "workflow.add_edge(\"first_tool_call\", \"list_tables_tool\")\n",
    "workflow.add_edge(\"list_tables_tool\", \"model_get_schema\")\n",
    "workflow.add_edge(\"model_get_schema\", \"get_schema_tool\")\n",
    "workflow.add_edge(\"get_schema_tool\", \"query_gen\")\n",
    "workflow.add_conditional_edges(\n",
    "    \"query_gen\",\n",
    "    should_continue,\n",
    ")\n",
    "workflow.add_edge(\"correct_query\", \"execute_query\")\n",
    "workflow.add_edge(\"execute_query\", \"query_gen\")\n"
   ]
  },
  {
   "cell_type": "code",
   "execution_count": 51,
   "id": "3504b93e",
   "metadata": {},
   "outputs": [
    {
     "data": {
      "text/plain": [
       "<langgraph.graph.state.StateGraph at 0x1928d009e70>"
      ]
     },
     "execution_count": 51,
     "metadata": {},
     "output_type": "execute_result"
    }
   ],
   "source": [
    "workflow.add_node(\"first_tool_call\", first_tool_call)\n",
    "\n"
   ]
  },
  {
   "cell_type": "code",
   "execution_count": 54,
   "id": "b1ddeb70",
   "metadata": {},
   "outputs": [],
   "source": [
    "app=workflow.compile()"
   ]
  },
  {
   "cell_type": "code",
   "execution_count": 55,
   "id": "3d15bc05",
   "metadata": {},
   "outputs": [
    {
     "data": {
      "image/png": "[encoded data removed]",
      "text/plain": [
       "<IPython.core.display.Image object>"
      ]
     },
     "metadata": {},
     "output_type": "display_data"
    }
   ],
   "source": [
    "from IPython.display import Image, display\n",
    "from langchain_core.runnables.graph import MermaidDrawMethod\n",
    "\n",
    "display(\n",
    "    Image(\n",
    "        app.get_graph().draw_mermaid_png(\n",
    "            draw_method=MermaidDrawMethod.API,\n",
    "        )\n",
    "    )\n",
    ")"
   ]
  },
  {
   "cell_type": "code",
   "execution_count": null,
   "id": "e6519339",
   "metadata": {},
   "outputs": [],
   "source": []
  }
 ],
 "metadata": {
  "kernelspec": {
   "display_name": "Python 3",
   "language": "python",
   "name": "python3"
  },
  "language_info": {
   "codemirror_mode": {
    "name": "ipython",
    "version": 3
   },
   "file_extension": ".py",
   "mimetype": "text/x-python",
   "name": "python",
   "nbconvert_exporter": "python",
   "pygments_lexer": "ipython3",
   "version": "3.10.16"
  }
 },
 "nbformat": 4,
 "nbformat_minor": 5
}
