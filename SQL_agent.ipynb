{
 "cells": [
  {
   "cell_type": "code",
   "execution_count": 2,
   "id": "3d1d2e78",
   "metadata": {},
   "outputs": [],
   "source": [
    "import sqlite3"
   ]
  },
  {
   "cell_type": "code",
   "execution_count": null,
   "id": "982a21d5",
   "metadata": {},
   "outputs": [],
   "source": [
    "connection=sqlite3.connect(\"mydb.db\")"
   ]
  },
  {
   "cell_type": "code",
   "execution_count": 4,
   "id": "357cc92a",
   "metadata": {},
   "outputs": [
    {
     "data": {
      "text/plain": [
       "<sqlite3.Connection at 0x1ef79eea640>"
      ]
     },
     "execution_count": 4,
     "metadata": {},
     "output_type": "execute_result"
    }
   ],
   "source": [
    "connection"
   ]
  },
  {
   "cell_type": "code",
   "execution_count": 20,
   "id": "ca3f9f3a",
   "metadata": {},
   "outputs": [],
   "source": [
    "# Define all table creation queries FIRST\n",
    "table_creation_query = \"\"\"\n",
    "CREATE TABLE IF NOT EXISTS USERS(\n",
    "    emp_id INTEGER PRIMARY KEY,\n",
    "    first_name TEXT NOT NULL,\n",
    "    last_name TEXT NOT NULL,\n",
    "    email TEXT NOT NULL,\n",
    "    hire_date TEXT NOT NULL,\n",
    "    salary REAL NOT NULL\n",
    ");\n",
    "\"\"\"\n",
    "\n",
    "table_creation_query_departments = \"\"\"\n",
    "CREATE TABLE IF NOT EXISTS DEPARTMENTS (\n",
    "    dept_id INTEGER PRIMARY KEY,\n",
    "    dept_name TEXT NOT NULL UNIQUE\n",
    ");\n",
    "\"\"\"\n",
    "\n",
    "table_creation_query_employees_departments = \"\"\"\n",
    "CREATE TABLE IF NOT EXISTS EMPLOYEES_DEPARTMENTS (\n",
    "    emp_id INTEGER,\n",
    "    dept_id INTEGER,\n",
    "    PRIMARY KEY (emp_id, dept_id),\n",
    "    FOREIGN KEY (emp_id) REFERENCES USERS(emp_id),\n",
    "    FOREIGN KEY (dept_id) REFERENCES DEPARTMENTS(dept_id)\n",
    ");\n",
    "\"\"\"\n",
    "\n",
    "table_creation_query_projects = \"\"\"\n",
    "CREATE TABLE IF NOT EXISTS PROJECTS (\n",
    "    project_id INTEGER PRIMARY KEY,\n",
    "    project_name TEXT NOT NULL,\n",
    "    start_date TEXT,\n",
    "    end_date TEXT\n",
    ");\n",
    "\"\"\"\n",
    "\n",
    "table_creation_query_assignments = \"\"\"\n",
    "CREATE TABLE IF NOT EXISTS ASSIGNMENTS (\n",
    "    assignment_id INTEGER PRIMARY KEY,\n",
    "    emp_id INTEGER,\n",
    "    project_id INTEGER,\n",
    "    assigned_date TEXT NOT NULL,\n",
    "    role TEXT,\n",
    "    FOREIGN KEY (emp_id) REFERENCES USERS(emp_id),\n",
    "    FOREIGN KEY (project_id) REFERENCES PROJECTS(project_id)\n",
    ");\n",
    "\"\"\"\n",
    "\n",
    "table_creation_query_attendance = \"\"\"\n",
    "CREATE TABLE IF NOT EXISTS ATTENDANCE (\n",
    "    attendance_id INTEGER PRIMARY KEY,\n",
    "    emp_id INTEGER,\n",
    "    date TEXT NOT NULL,\n",
    "    status TEXT NOT NULL CHECK(status IN ('Present', 'Absent', 'Leave')),\n",
    "    FOREIGN KEY (emp_id) REFERENCES USERS(emp_id)\n",
    ");\n",
    "\"\"\"\n",
    "\n",
    "\n"
   ]
  },
  {
   "cell_type": "code",
   "execution_count": null,
   "id": "b5f50844",
   "metadata": {},
   "outputs": [
    {
     "data": {
      "text/plain": [
       "<sqlite3.Cursor at 0x1ef7b66d1c0>"
      ]
     },
     "execution_count": 22,
     "metadata": {},
     "output_type": "execute_result"
    }
   ],
   "source": [
    "# Now execute them\n",
    "import sqlite3\n",
    "\n",
    "conn = sqlite3.connect(\"company.db\")\n",
    "cursor = conn.cursor()\n",
    "\n",
    "cursor.execute(table_creation_query)\n",
    "cursor.execute(table_creation_query_departments)\n",
    "cursor.execute(table_creation_query_employees_departments)\n",
    "cursor.execute(table_creation_query_projects)\n",
    "cursor.execute(table_creation_query_assignments)\n",
    "cursor.execute(table_creation_query_attendance)\n",
    "\n"
   ]
  },
  {
   "cell_type": "code",
   "execution_count": 23,
   "id": "333f7a50",
   "metadata": {},
   "outputs": [],
   "source": [
    "users_data = [\n",
    "    (1, 'John', 'Doe', 'john.doe@example.com', '2022-01-10', 60000),\n",
    "    (2, 'Jane', 'Smith', 'jane.smith@example.com', '2021-03-15', 65000),\n",
    "    (3, 'Alice', 'Johnson', 'alice.johnson@example.com', '2020-07-20', 70000),\n",
    "    (4, 'Bob', 'Brown', 'bob.brown@example.com', '2023-02-10', 55000),\n",
    "    (5, 'Charlie', 'Davis', 'charlie.davis@example.com', '2022-08-05', 58000),\n",
    "    (6, 'Diana', 'Evans', 'diana.evans@example.com', '2021-11-11', 62000),\n",
    "    (7, 'Frank', 'Green', 'frank.green@example.com', '2022-05-01', 67000),\n",
    "    (8, 'Grace', 'Hall', 'grace.hall@example.com', '2020-09-13', 69000),\n",
    "    (9, 'Henry', 'Irwin', 'henry.irwin@example.com', '2019-12-23', 71000),\n",
    "    (10, 'Ivy', 'James', 'ivy.james@example.com', '2023-04-14', 63000),\n",
    "]\n",
    "\n",
    "\n",
    "departments_data = [\n",
    "    (1, 'HR'),\n",
    "    (2, 'Engineering'),\n",
    "    (3, 'Marketing'),\n",
    "    (4, 'Finance'),\n",
    "    (5, 'Sales')\n",
    "]\n",
    "\n",
    "employees_departments_data = [\n",
    "    (1, 2),\n",
    "    (2, 1),\n",
    "    (3, 2),\n",
    "    (4, 3),\n",
    "    (5, 4),\n",
    "    (6, 1),\n",
    "    (7, 2),\n",
    "    (8, 3),\n",
    "    (9, 4),\n",
    "    (10, 5)\n",
    "]\n",
    "\n",
    "projects_data = [\n",
    "    (1, 'Project Apollo', '2023-01-01', '2023-12-31'),\n",
    "    (2, 'Project Titan', '2022-06-01', '2023-06-01'),\n",
    "    (3, 'Project Orion', '2023-03-01', '2023-10-01')\n",
    "]\n",
    "\n",
    "assignments_data = [\n",
    "    (1, 1, 1, '2023-01-15', 'Developer'),\n",
    "    (2, 2, 1, '2023-01-20', 'Manager'),\n",
    "    (3, 3, 2, '2022-07-01', 'Developer'),\n",
    "    (4, 4, 3, '2023-03-10', 'Tester'),\n",
    "    (5, 5, 1, '2023-02-01', 'Analyst'),\n",
    "    (6, 6, 2, '2022-09-15', 'Support'),\n",
    "    (7, 7, 1, '2023-01-25', 'Developer'),\n",
    "    (8, 8, 3, '2023-04-01', 'UI/UX Designer'),\n",
    "    (9, 9, 2, '2022-10-10', 'QA'),\n",
    "    (10, 10, 1, '2023-05-05', 'Consultant'),\n",
    "]\n",
    "\n",
    "attendance_data = [\n",
    "    (1, 1, '2023-05-20', 'Present'),\n",
    "    (2, 2, '2023-05-20', 'Absent'),\n",
    "    (3, 3, '2023-05-20', 'Leave'),\n",
    "    (4, 4, '2023-05-20', 'Present'),\n",
    "    (5, 5, '2023-05-20', 'Present'),\n",
    "    (6, 6, '2023-05-20', 'Present'),\n",
    "    (7, 7, '2023-05-20', 'Present'),\n",
    "    (8, 8, '2023-05-20', 'Absent'),\n",
    "    (9, 9, '2023-05-20', 'Leave'),\n",
    "    (10, 10, '2023-05-20', 'Present'),\n",
    "]\n"
   ]
  },
  {
   "cell_type": "code",
   "execution_count": 24,
   "id": "c1705ddb",
   "metadata": {},
   "outputs": [
    {
     "data": {
      "text/plain": [
       "<sqlite3.Cursor at 0x1ef7b66d1c0>"
      ]
     },
     "execution_count": 24,
     "metadata": {},
     "output_type": "execute_result"
    }
   ],
   "source": [
    "cursor.executemany(\"INSERT INTO USERS VALUES (?, ?, ?, ?, ?, ?);\", users_data)\n",
    "cursor.executemany(\"INSERT INTO DEPARTMENTS VALUES (?, ?);\", departments_data)\n",
    "cursor.executemany(\"INSERT INTO EMPLOYEES_DEPARTMENTS VALUES (?, ?);\", employees_departments_data)\n",
    "cursor.executemany(\"INSERT INTO PROJECTS VALUES (?, ?, ?, ?);\", projects_data)\n",
    "cursor.executemany(\"INSERT INTO ASSIGNMENTS VALUES (?, ?, ?, ?, ?);\", assignments_data)\n",
    "cursor.executemany(\"INSERT INTO ATTENDANCE VALUES (?, ?, ?, ?);\", attendance_data)"
   ]
  },
  {
   "cell_type": "code",
   "execution_count": null,
   "id": "c2e59a93",
   "metadata": {},
   "outputs": [],
   "source": [
    "conn.commit()\n"
   ]
  },
  {
   "cell_type": "code",
   "execution_count": 26,
   "id": "ae28191a",
   "metadata": {},
   "outputs": [
    {
     "data": {
      "text/plain": [
       "<sqlite3.Cursor at 0x1ef7b66d1c0>"
      ]
     },
     "execution_count": 26,
     "metadata": {},
     "output_type": "execute_result"
    }
   ],
   "source": [
    "cursor.execute(\"select * from USERS\")"
   ]
  },
  {
   "cell_type": "code",
   "execution_count": 27,
   "id": "f9e53fa8",
   "metadata": {},
   "outputs": [
    {
     "name": "stdout",
     "output_type": "stream",
     "text": [
      "(1, 'John', 'Doe', 'john.doe@example.com', '2022-01-10', 60000.0)\n",
      "(2, 'Jane', 'Smith', 'jane.smith@example.com', '2021-03-15', 65000.0)\n",
      "(3, 'Alice', 'Johnson', 'alice.johnson@example.com', '2020-07-20', 70000.0)\n",
      "(4, 'Bob', 'Brown', 'bob.brown@example.com', '2023-02-10', 55000.0)\n",
      "(5, 'Charlie', 'Davis', 'charlie.davis@example.com', '2022-08-05', 58000.0)\n",
      "(6, 'Diana', 'Evans', 'diana.evans@example.com', '2021-11-11', 62000.0)\n",
      "(7, 'Frank', 'Green', 'frank.green@example.com', '2022-05-01', 67000.0)\n",
      "(8, 'Grace', 'Hall', 'grace.hall@example.com', '2020-09-13', 69000.0)\n",
      "(9, 'Henry', 'Irwin', 'henry.irwin@example.com', '2019-12-23', 71000.0)\n",
      "(10, 'Ivy', 'James', 'ivy.james@example.com', '2023-04-14', 63000.0)\n"
     ]
    }
   ],
   "source": [
    "for row in cursor.fetchall():\n",
    "    print(row)"
   ]
  },
  {
   "cell_type": "code",
   "execution_count": 28,
   "id": "39affb2f",
   "metadata": {},
   "outputs": [],
   "source": [
    "from langchain_community.utilities import SQLDatabase"
   ]
  },
  {
   "cell_type": "code",
   "execution_count": 31,
   "id": "f6409fd0",
   "metadata": {},
   "outputs": [],
   "source": [
    "db = SQLDatabase.from_uri(\"sqlite:///company.db\")"
   ]
  },
  {
   "cell_type": "code",
   "execution_count": 32,
   "id": "574a5397",
   "metadata": {},
   "outputs": [
    {
     "data": {
      "text/plain": [
       "<langchain_community.utilities.sql_database.SQLDatabase at 0x1ef7c7f5300>"
      ]
     },
     "execution_count": 32,
     "metadata": {},
     "output_type": "execute_result"
    }
   ],
   "source": [
    "db"
   ]
  },
  {
   "cell_type": "code",
   "execution_count": 33,
   "id": "e47fea95",
   "metadata": {},
   "outputs": [
    {
     "data": {
      "text/plain": [
       "'sqlite'"
      ]
     },
     "execution_count": 33,
     "metadata": {},
     "output_type": "execute_result"
    }
   ],
   "source": [
    "db.dialect"
   ]
  },
  {
   "cell_type": "code",
   "execution_count": 35,
   "id": "adcf9d93",
   "metadata": {},
   "outputs": [
    {
     "data": {
      "text/plain": [
       "['ASSIGNMENTS',\n",
       " 'ATTENDANCE',\n",
       " 'DEPARTMENTS',\n",
       " 'EMPLOYEES_DEPARTMENTS',\n",
       " 'PROJECTS',\n",
       " 'USERS']"
      ]
     },
     "execution_count": 35,
     "metadata": {},
     "output_type": "execute_result"
    }
   ],
   "source": [
    "db.get_usable_table_names()"
   ]
  },
  {
   "cell_type": "code",
   "execution_count": 42,
   "id": "65c59775",
   "metadata": {},
   "outputs": [],
   "source": [
    "from langchain_groq import ChatGroq\n",
    "llm = ChatGroq(model=\"llama3-70b-8192\")\n"
   ]
  },
  {
   "cell_type": "code",
   "execution_count": 43,
   "id": "f2f9a1ad",
   "metadata": {},
   "outputs": [
    {
     "data": {
      "text/plain": [
       "AIMessage(content=\"I'm just a language model, I don't have emotions or feelings, but I'm functioning properly and ready to assist you with any topics you'd like to discuss. How can I help you today?\", additional_kwargs={}, response_metadata={'token_usage': {'completion_tokens': 42, 'prompt_tokens': 14, 'total_tokens': 56, 'completion_time': 0.161794214, 'prompt_time': 0.000199079, 'queue_time': 0.055392031, 'total_time': 0.161993293}, 'model_name': 'llama3-70b-8192', 'system_fingerprint': 'fp_dd4ae1c591', 'finish_reason': 'stop', 'logprobs': None}, id='run--da2ea398-233a-4ec8-9084-4adb558776c0-0', usage_metadata={'input_tokens': 14, 'output_tokens': 42, 'total_tokens': 56})"
      ]
     },
     "execution_count": 43,
     "metadata": {},
     "output_type": "execute_result"
    }
   ],
   "source": [
    "llm.invoke(\"how are you ?\")"
   ]
  },
  {
   "cell_type": "code",
   "execution_count": 44,
   "id": "0b772490",
   "metadata": {},
   "outputs": [],
   "source": [
    "from langchain_community.agent_toolkits import SQLDatabaseToolkit"
   ]
  },
  {
   "cell_type": "code",
   "execution_count": 48,
   "id": "799fda3e",
   "metadata": {},
   "outputs": [],
   "source": [
    "toolkit =SQLDatabaseToolkit(db=db,llm=llm)"
   ]
  },
  {
   "cell_type": "code",
   "execution_count": 63,
   "id": "8375dde1",
   "metadata": {},
   "outputs": [],
   "source": [
    "tools =toolkit.get_tools()"
   ]
  },
  {
   "cell_type": "code",
   "execution_count": 64,
   "id": "2e0f93db",
   "metadata": {},
   "outputs": [
    {
     "name": "stdout",
     "output_type": "stream",
     "text": [
      "sql_db_query\n",
      "sql_db_schema\n",
      "sql_db_list_tables\n",
      "sql_db_query_checker\n"
     ]
    }
   ],
   "source": [
    "for tool in tools:\n",
    "    print(tool.name)"
   ]
  },
  {
   "cell_type": "code",
   "execution_count": 65,
   "id": "4aa6405b",
   "metadata": {},
   "outputs": [],
   "source": [
    "list_table_tool=next((tool for tool in tools if tool.name==\"sql_db_list_tables\"),None)"
   ]
  },
  {
   "cell_type": "code",
   "execution_count": 73,
   "id": "1a148dd5",
   "metadata": {},
   "outputs": [],
   "source": [
    "get_schema_tool = next(tool for tool in tools if tool.name == \"sql_db_schema\")\n"
   ]
  },
  {
   "cell_type": "code",
   "execution_count": 66,
   "id": "f9927257",
   "metadata": {},
   "outputs": [
    {
     "data": {
      "text/plain": [
       "ListSQLDatabaseTool(db=<langchain_community.utilities.sql_database.SQLDatabase object at 0x000001EF7C7F5300>)"
      ]
     },
     "execution_count": 66,
     "metadata": {},
     "output_type": "execute_result"
    }
   ],
   "source": [
    "list_table_tool"
   ]
  },
  {
   "cell_type": "code",
   "execution_count": 67,
   "id": "c9d622b4",
   "metadata": {},
   "outputs": [
    {
     "data": {
      "text/plain": [
       "'ASSIGNMENTS, ATTENDANCE, DEPARTMENTS, EMPLOYEES_DEPARTMENTS, PROJECTS, USERS'"
      ]
     },
     "execution_count": 67,
     "metadata": {},
     "output_type": "execute_result"
    }
   ],
   "source": [
    "list_table_tool.invoke(\"\")"
   ]
  },
  {
   "cell_type": "code",
   "execution_count": null,
   "id": "a7ec3a1e",
   "metadata": {},
   "outputs": [
    {
     "name": "stdout",
     "output_type": "stream",
     "text": [
      "\n",
      "CREATE TABLE \"USERS\" (\n",
      "\temp_id INTEGER, \n",
      "\tfirst_name TEXT NOT NULL, \n",
      "\tlast_name TEXT NOT NULL, \n",
      "\temail TEXT NOT NULL, \n",
      "\thire_date TEXT NOT NULL, \n",
      "\tsalary REAL NOT NULL, \n",
      "\tPRIMARY KEY (emp_id)\n",
      ")\n",
      "\n",
      "/*\n",
      "3 rows from USERS table:\n",
      "emp_id\tfirst_name\tlast_name\temail\thire_date\tsalary\n",
      "1\tJohn\tDoe\tjohn.doe@example.com\t2022-01-10\t60000.0\n",
      "2\tJane\tSmith\tjane.smith@example.com\t2021-03-15\t65000.0\n",
      "3\tAlice\tJohnson\talice.johnson@example.com\t2020-07-20\t70000.0\n",
      "*/\n"
     ]
    }
   ],
   "source": [
    "print(get_schema_tool.invoke(\"USERS\"))"
   ]
  },
  {
   "cell_type": "code",
   "execution_count": null,
   "id": "e14be79a",
   "metadata": {},
   "outputs": [],
   "source": []
  },
  {
   "cell_type": "code",
   "execution_count": null,
   "id": "ba264461",
   "metadata": {},
   "outputs": [],
   "source": []
  }
 ],
 "metadata": {
  "kernelspec": {
   "display_name": "Python 3",
   "language": "python",
   "name": "python3"
  },
  "language_info": {
   "codemirror_mode": {
    "name": "ipython",
    "version": 3
   },
   "file_extension": ".py",
   "mimetype": "text/x-python",
   "name": "python",
   "nbconvert_exporter": "python",
   "pygments_lexer": "ipython3",
   "version": "3.10.16"
  }
 },
 "nbformat": 4,
 "nbformat_minor": 5
}
